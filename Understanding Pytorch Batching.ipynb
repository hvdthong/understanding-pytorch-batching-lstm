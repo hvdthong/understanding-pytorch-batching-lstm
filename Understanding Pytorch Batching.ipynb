{
 "cells": [
  {
   "cell_type": "code",
   "execution_count": 28,
   "metadata": {},
   "outputs": [],
   "source": [
    "from __future__ import unicode_literals, print_function, division\n",
    "\n",
    "import glob\n",
    "import random\n",
    "from io import open\n",
    "\n",
    "import torch\n",
    "import torch.optim as optim\n",
    "from sklearn.metrics import classification_report, confusion_matrix, accuracy_score\n",
    "from torch import nn as nn, autograd\n",
    "from torch.nn import functional as F\n",
    "from torch.nn.utils.rnn import pack_padded_sequence, pad_packed_sequence\n",
    "from torch.utils.data import Dataset, DataLoader\n",
    "\n",
    "random.seed(1)\n",
    "\n",
    "###\n",
    "# Thanks to http://pytorch.org/tutorials/intermediate/char_rnn_classification_tutorial.html\n",
    "# for these code snippets\n",
    "###\n",
    "\n",
    "def findFiles(path): return glob.glob(path)\n",
    "\n",
    "import unicodedata\n",
    "import string\n",
    "\n",
    "all_letters = string.ascii_letters + \" .,;'\"\n",
    "n_letters = len(all_letters)\n",
    "\n",
    "# Turn a Unicode string to plain ASCII, thanks to http://stackoverflow.com/a/518232/2809427\n",
    "def unicodeToAscii(s):\n",
    "    return ''.join(\n",
    "        c for c in unicodedata.normalize('NFD', s)\n",
    "        if unicodedata.category(c) != 'Mn'\n",
    "        and c in all_letters\n",
    "    )\n",
    "\n",
    "# Build the category_lines dictionary, a list of names per language\n",
    "category_lines = {}\n",
    "all_categories = []\n",
    "\n",
    "# Read a file and split into lines\n",
    "def readLines(filename):\n",
    "    lines = open(filename, encoding='utf-8').read().strip().split('\\n')\n",
    "    return [unicodeToAscii(line) for line in lines]\n",
    "\n",
    "data = list()\n",
    "\n",
    "for filename in findFiles('data/names/*.txt'):\n",
    "    category = filename.split('/')[-1].split('.')[0]\n",
    "    all_categories.append(category)\n",
    "    lines = readLines(filename)\n",
    "    for l in lines:\n",
    "        data.append((l, category))\n",
    "\n",
    "data = random.sample(data, len(data))\n",
    "\n",
    "\n",
    "TRAIN_BATCH_SIZE = 32\n",
    "VALIDATION_BATCH_SIZE = 1\n",
    "TEST_BATCH_SIZE = 1"
   ]
  },
  {
   "cell_type": "code",
   "execution_count": 29,
   "metadata": {
    "collapsed": true
   },
   "outputs": [],
   "source": [
    "\"\"\"\n",
    "We are going to use the Dataset interface provided\n",
    "by pytorch wich is really convenient when it comes to\n",
    "batching our data\n",
    "\"\"\"\n",
    "class PaddedTensorDataset(Dataset):\n",
    "    \"\"\"Dataset wrapping data, target and length tensors.\n",
    "\n",
    "    Each sample will be retrieved by indexing both tensors along the first\n",
    "    dimension.\n",
    "\n",
    "    Arguments:\n",
    "        data_tensor (Tensor): contains sample data.\n",
    "        target_tensor (Tensor): contains sample targets (labels).\n",
    "        length (Tensor): contains sample lengths.\n",
    "        raw_data (Any): The data that has been transformed into tensor, useful for debugging\n",
    "    \"\"\"\n",
    "\n",
    "    def __init__(self, data_tensor, target_tensor, length_tensor, raw_data):\n",
    "        assert data_tensor.size(0) == target_tensor.size(0) == length_tensor.size(0)\n",
    "        self.data_tensor = data_tensor\n",
    "        self.target_tensor = target_tensor\n",
    "        self.length_tensor = length_tensor\n",
    "        self.raw_data = raw_data\n",
    "\n",
    "    def __getitem__(self, index):\n",
    "        return self.data_tensor[index], self.target_tensor[index], self.length_tensor[index], self.raw_data[index]\n",
    "\n",
    "    def __len__(self):\n",
    "        return self.data_tensor.size(0)"
   ]
  },
  {
   "cell_type": "code",
   "execution_count": 30,
   "metadata": {
    "collapsed": true
   },
   "outputs": [],
   "source": [
    "\"\"\"\n",
    "A couple useful method\n",
    "\"\"\"\n",
    "\n",
    "def vectorize_data(data, to_ix):\n",
    "    return [[to_ix[tok] if tok in to_ix else to_ix['UNK'] for tok in seq] for seq, y in data]  # Figure 1\n",
    "\n",
    "\n",
    "def pad_sequences(vectorized_seqs, seq_lengths):\n",
    "    seq_tensor = torch.zeros((len(vectorized_seqs), seq_lengths.max())).long()\n",
    "    for idx, (seq, seqlen) in enumerate(zip(vectorized_seqs, seq_lengths)):\n",
    "        seq_tensor[idx, :seqlen] = torch.LongTensor(seq)\n",
    "    return seq_tensor\n",
    "\n",
    "\n",
    "def create_dataset(data, x_to_ix, y_to_ix, bs=4):\n",
    "    vectorized_seqs = vectorize_data(data, x_to_ix)\n",
    "    seq_lengths = torch.LongTensor([len(s) for s in vectorized_seqs])\n",
    "    seq_tensor = pad_sequences(vectorized_seqs, seq_lengths)  # Figure 2\n",
    "    target_tensor = torch.LongTensor([y_to_ix[y] for _, y in data])\n",
    "    raw_data = [x for x, _ in data]\n",
    "    return DataLoader(PaddedTensorDataset(seq_tensor, target_tensor, seq_lengths, raw_data), batch_size=bs)\n",
    "\n",
    "\n",
    "def sort_batch(batch, ys, lengths):\n",
    "    seq_lengths, perm_idx = lengths.sort(0, descending=True)\n",
    "    seq_tensor = batch[perm_idx]\n",
    "    targ_tensor = ys[perm_idx]\n",
    "    return seq_tensor.transpose(0, 1), targ_tensor, seq_lengths\n",
    "\n",
    "def train_dev_test_split(data):\n",
    "    train_ratio = int(len(data) * 0.8)  # 80% of dataset\n",
    "    train = data[:train_ratio]\n",
    "    test = data[train_ratio:]\n",
    "    valid_ratio = int(len(train) * 0.8)  # 20% of train set\n",
    "    dev = train[valid_ratio:]\n",
    "    return train, dev, test\n",
    "\n",
    "def build_vocab_tag_sets(data):\n",
    "    vocab = set()\n",
    "    tags = set()\n",
    "    for name in data:\n",
    "        chars = set(name[0])\n",
    "        vocab = vocab.union(chars)\n",
    "        tags.add(name[1])\n",
    "    return vocab, tags\n",
    "\n",
    "def make_to_ix(data, to_ix=None):\n",
    "    if to_ix is None:\n",
    "        to_ix = dict()\n",
    "    for c in data:\n",
    "        to_ix[c] = len(to_ix)\n",
    "    return to_ix\n",
    "\n",
    "def apply(model, criterion, batch, targets, lengths):\n",
    "    pred = model(torch.autograd.Variable(batch), lengths.cpu().numpy())\n",
    "    loss = criterion(pred, torch.autograd.Variable(targets))\n",
    "    return pred, loss"
   ]
  },
  {
   "cell_type": "code",
   "execution_count": 40,
   "metadata": {
    "collapsed": true
   },
   "outputs": [],
   "source": [
    "\"\"\"\n",
    "Training and evaluation methods\n",
    "\"\"\"\n",
    "def train_model(model, optimizer, train, dev, x_to_ix, y_to_ix):\n",
    "    criterion = nn.NLLLoss(size_average=False)\n",
    "    for epoch in range(20):\n",
    "        print(\"Epoch {}\".format(epoch))\n",
    "        y_true = list()\n",
    "        y_pred = list()\n",
    "        total_loss = 0\n",
    "        for batch, targets, lengths, raw_data in create_dataset(train, x_to_ix, y_to_ix, bs=TRAIN_BATCH_SIZE):\n",
    "            batch, targets, lengths = sort_batch(batch, targets, lengths)\n",
    "            model.zero_grad()\n",
    "            pred, loss = apply(model, criterion, batch, targets, lengths)\n",
    "            loss.backward()\n",
    "            optimizer.step()\n",
    "            pred_idx = torch.max(pred, 1)[1]\n",
    "            y_true += list(targets.int())\n",
    "            y_pred += list(pred_idx.data.int())\n",
    "            total_loss += loss\n",
    "        acc = accuracy_score(y_true, y_pred)\n",
    "        val_loss, val_acc = evaluate_validation_set(model, dev, x_to_ix, y_to_ix, criterion)\n",
    "        print(\"Train loss: {} - acc: {} \\nValidation loss: {} - acc: {}\".format(list(total_loss.data.float())[0]/len(train), acc,\n",
    "                                                                                val_loss, val_acc))\n",
    "    return model\n",
    "\n",
    "def evaluate_validation_set(model, devset, x_to_ix, y_to_ix, criterion):\n",
    "    y_true = list()\n",
    "    y_pred = list()\n",
    "    total_loss = 0\n",
    "    for batch, targets, lengths, raw_data in create_dataset(devset, x_to_ix, y_to_ix, bs=VALIDATION_BATCH_SIZE):\n",
    "        batch, targets, lengths = sort_batch(batch, targets, lengths)\n",
    "        pred, loss = apply(model, criterion, batch, targets, lengths)\n",
    "        pred_idx = torch.max(pred, 1)[1]\n",
    "        y_true += list(targets.int())\n",
    "        y_pred += list(pred_idx.data.int())\n",
    "        total_loss += loss\n",
    "    acc = accuracy_score(y_true, y_pred)\n",
    "    return list(total_loss.data.float())[0]/len(devset), acc\n",
    "\n",
    "def evaluate_test_set(model, test, x_to_ix, y_to_ix):\n",
    "    y_true = list()\n",
    "    y_pred = list()\n",
    "\n",
    "    for batch, targets, lengths, raw_data in create_dataset(test, x_to_ix, y_to_ix, bs=TEST_BATCH_SIZE):\n",
    "        batch, targets, lengths = sort_batch(batch, targets, lengths)\n",
    "\n",
    "        pred = model(torch.autograd.Variable(batch), lengths.cpu().numpy())\n",
    "        pred_idx = torch.max(pred, 1)[1]\n",
    "        y_true += list(targets.int())\n",
    "        y_pred += list(pred_idx.data.int())\n",
    "\n",
    "    print(len(y_true), len(y_pred))\n",
    "    print(classification_report(y_true, y_pred))\n",
    "    print(confusion_matrix(y_true, y_pred))"
   ]
  },
  {
   "cell_type": "code",
   "execution_count": 32,
   "metadata": {
    "collapsed": true
   },
   "outputs": [],
   "source": [
    "\"\"\"\n",
    "Our Recurrent Model\n",
    "\"\"\"\n",
    "\n",
    "class NamesRNN(nn.Module):\n",
    "    def __init__(self, vocab_size, embedding_dim, hidden_dim, output_size):\n",
    "        super(NamesRNN, self).__init__()\n",
    "        self.embedding_dim = embedding_dim\n",
    "        self.hidden_dim = hidden_dim\n",
    "        self.vocab_size = vocab_size\n",
    "\n",
    "        self.char_embeds = nn.Embedding(vocab_size, embedding_dim)\n",
    "        self.lstm = nn.LSTM(embedding_dim, hidden_dim, num_layers=1)\n",
    "\n",
    "        self.fully_connected_layer = nn.Linear(hidden_dim, output_size)\n",
    "        self.softmax = nn.LogSoftmax()\n",
    "\n",
    "    def init_hidden(self, batch):\n",
    "        return (autograd.Variable(torch.randn(2, batch, self.hidden_dim)),\n",
    "                autograd.Variable(torch.randn(2, batch, self.hidden_dim)))\n",
    "\n",
    "    def _get_lstm_features(self, names, lengths):\n",
    "        self.hidden = self.init_hidden(names.size(-1))\n",
    "        embeds = self.char_embeds(names)  # Figure 4\n",
    "        packed_input = pack_padded_sequence(embeds, lengths)  # Figure 5\n",
    "        packed_output, (ht, ct) = self.lstm(packed_input, self.hidden)  # Figure 6\n",
    "        lstm_out, _ = pad_packed_sequence(packed_output)  # Figure 7\n",
    "        lstm_out = torch.transpose(lstm_out, 0, 1)\n",
    "        lstm_out = torch.transpose(lstm_out, 1, 2)\n",
    "        lstm_out = F.tanh(lstm_out)  # Figure 8\n",
    "        lstm_out, indices = F.max_pool1d(lstm_out, lstm_out.size(2), return_indices=True)  # Figure 9\n",
    "        lstm_out = lstm_out.squeeze(2)\n",
    "        lstm_out = F.tanh(lstm_out)\n",
    "        lstm_feats = self.fully_connected_layer(lstm_out)\n",
    "        output = self.softmax(lstm_feats)  # Figure 10\n",
    "        return output\n",
    "\n",
    "    def forward(self, name, lengths):\n",
    "        return self._get_lstm_features(name, lengths)"
   ]
  },
  {
   "cell_type": "code",
   "execution_count": 33,
   "metadata": {
    "collapsed": true
   },
   "outputs": [],
   "source": [
    "\"\"\"\n",
    "Method for debugging purpose\n",
    "\"\"\"\n",
    "def filter_for_visual_example(train):\n",
    "    new_t = list()\n",
    "    for x in train:\n",
    "        if len(x[0]) == 6:\n",
    "            new_t.append(x)\n",
    "            break\n",
    "    for x in train:\n",
    "        if len(x[0]) == 5:\n",
    "            new_t.append(x)\n",
    "            break\n",
    "    for x in train:\n",
    "        if len(x[0]) == 4:\n",
    "            new_t.append(x)\n",
    "            break\n",
    "    for x in train:\n",
    "        if len(x[0]) == 3:\n",
    "            new_t.append(x)\n",
    "            break\n",
    "    return new_t"
   ]
  },
  {
   "cell_type": "code",
   "execution_count": null,
   "metadata": {},
   "outputs": [],
   "source": [
    "\"\"\"\n",
    "The actual train and evaluation\n",
    "\"\"\"\n",
    "train, dev, test = train_dev_test_split(data)\n",
    "# train = filter_for_visual_example(train)\n",
    "# print(train)\n",
    "\n",
    "vocab, tags = build_vocab_tag_sets(train)\n",
    "\n",
    "chars_to_idx = {\n",
    "    'PAD': 0,\n",
    "    'UNK': 1\n",
    "}\n",
    "chars_to_idx = make_to_ix(sorted(list(vocab)), chars_to_idx) # Really important to sort it if you save your model for later!\n",
    "tags_to_idx = make_to_ix(sorted(list(tags)))\n",
    "\n",
    "model = NamesRNN(len(chars_to_idx), 128, 32, len(tags))\n",
    "optimizer = optim.SGD(model.parameters(), lr=0.01, weight_decay=1e-4)\n",
    "\n",
    "model = train_model(model, optimizer, train, dev, chars_to_idx, tags_to_idx)"
   ]
  },
  {
   "cell_type": "code",
   "execution_count": null,
   "metadata": {},
   "outputs": [],
   "source": [
    "evaluate_test_set(model, test, chars_to_idx, tags_to_idx)"
   ]
  },
  {
   "cell_type": "markdown",
   "metadata": {},
   "source": [
    "I try to make the figures as close as possible as the representation of pytorch while using the PyCharm Debugger. I think it will offer a better understanding of what is actually going on with all the tensors"
   ]
  },
  {
   "cell_type": "markdown",
   "metadata": {},
   "source": [
    "# Figure 1: One Hot String\n",
    "\n",
    "![](img/1_one_hot_string.jpg)"
   ]
  },
  {
   "cell_type": "markdown",
   "metadata": {},
   "source": [
    "# Figure 2: Padded String\n",
    "\n",
    "![](img/2_padded_string.jpg)"
   ]
  },
  {
   "cell_type": "markdown",
   "metadata": {},
   "source": [
    "# Figure 3: Batched Input\n",
    "\n",
    "![](img/3_batched_input.jpg)"
   ]
  },
  {
   "cell_type": "markdown",
   "metadata": {},
   "source": [
    "# Figure 4: Embeddings\n",
    "\n",
    "![](img/4_embeddings.jpg)\n",
    "\n",
    "Note here how the embeddings are batched together. "
   ]
  },
  {
   "cell_type": "markdown",
   "metadata": {},
   "source": [
    "# Figure 5: Packed Embeddings\n",
    "\n",
    "![](img/5_packed_embeddings.jpg)\n",
    "\n",
    "This piece here is the most interesting. Note that the data structure used is a PackedSequence. A packed sequence contains \"batches\" which tells how many rows to take for each timestep.\n",
    "\n",
    "In this case, the batch_sizes are [4, 4, 4, 3, 2, 1]. This means that all four first letters of each word will be fed into the LSTM at timestep 1. Then another 4 until the name \"San\" has exhausted. We then go on with 3 embeddings rows, 2 and then 1 which is equivalent to the letter \"v\" in the name \"Adylov\"."
   ]
  },
  {
   "cell_type": "markdown",
   "metadata": {},
   "source": [
    "# Figure 6: Packed LSTM Output\n",
    "\n",
    "![](img/6_packed_lstm_output.jpg)\n",
    "\n",
    "The LSTM will output a PackedSequence since that's what we fed it with. We can see that there are 4 columns since our LSTM has 4 hidden units."
   ]
  },
  {
   "cell_type": "markdown",
   "metadata": {},
   "source": [
    "# Figure 7: Padded LSTM Output\n",
    "\n",
    "![](img/7_padded_lstm_output.jpg)\n",
    "\n",
    "We need to padded the output back so we can properly work with it."
   ]
  },
  {
   "cell_type": "markdown",
   "metadata": {},
   "source": [
    "# Figure 8: Reshaped Output\n",
    "\n",
    "![](img/8_reshaped_output.jpg)\n",
    "\n",
    "We now reshaped our output so we can have each hidden units for each names."
   ]
  },
  {
   "cell_type": "markdown",
   "metadata": {},
   "source": [
    "# Figure 9: Max Pooling\n",
    "\n",
    "![](img/9_max_pooling.jpg)\n",
    "\n",
    "We then apply max pooling on each hidden representation for a name. We then end up with a column vector representation for each name."
   ]
  },
  {
   "cell_type": "markdown",
   "metadata": {},
   "source": [
    "# Figure 10: Predictions\n",
    "\n",
    "![](img/10_predictions.jpg)\n",
    "\n",
    "We then feed this output as an input to a Linear layer follow by a softmax which give log probabilities over the set of possible classes. Note here that the network has not been train so the predictions are all wrong.  "
   ]
  },
  {
   "cell_type": "code",
   "execution_count": null,
   "metadata": {
    "collapsed": true
   },
   "outputs": [],
   "source": []
  },
  {
   "cell_type": "code",
   "execution_count": null,
   "metadata": {
    "collapsed": true
   },
   "outputs": [],
   "source": []
  }
 ],
 "metadata": {
  "kernelspec": {
   "display_name": "Python 3",
   "language": "python",
   "name": "python3"
  },
  "language_info": {
   "codemirror_mode": {
    "name": "ipython",
    "version": 3
   },
   "file_extension": ".py",
   "mimetype": "text/x-python",
   "name": "python",
   "nbconvert_exporter": "python",
   "pygments_lexer": "ipython3",
   "version": "3.7.1"
  }
 },
 "nbformat": 4,
 "nbformat_minor": 2
}
